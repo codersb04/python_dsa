{
 "cells": [
  {
   "cell_type": "code",
   "execution_count": 4,
   "id": "c9afdb35",
   "metadata": {},
   "outputs": [],
   "source": [
    "# A wrapper class for Python stack function\n",
    "class Stack():\n",
    "    def __init__(self):\n",
    "        self.stack=list()\n",
    "    def push(self,item):\n",
    "        self.stack.append(item)\n",
    "    def pop(self):\n",
    "        if len(self.stack) > 0:\n",
    "            return self.stack.pop()\n",
    "        else:\n",
    "            return None\n",
    "    def peek(self):\n",
    "        if len(self.stack)>0:\n",
    "            return self.stack[len(self.stack)-1]\n",
    "        else:\n",
    "            return None\n",
    "    def __str__(self):\n",
    "        return str(self.stack)"
   ]
  },
  {
   "cell_type": "code",
   "execution_count": 10,
   "id": "2908aae5",
   "metadata": {},
   "outputs": [
    {
     "name": "stdout",
     "output_type": "stream",
     "text": [
      "[23, 12]\n",
      "12\n",
      "23\n",
      "23\n",
      "None\n"
     ]
    }
   ],
   "source": [
    "#testing with data\n",
    "\n",
    "my_stack=Stack()\n",
    "my_stack.push(23)\n",
    "my_stack.push(12)\n",
    "print(my_stack)\n",
    "print(my_stack.pop())\n",
    "print(my_stack.peek())\n",
    "print(my_stack.pop())\n",
    "print(my_stack.pop())"
   ]
  },
  {
   "cell_type": "code",
   "execution_count": 13,
   "id": "08cb93f4",
   "metadata": {},
   "outputs": [
    {
     "name": "stdout",
     "output_type": "stream",
     "text": [
      "deque([3, 12])\n",
      "3\n",
      "deque([12])\n"
     ]
    }
   ],
   "source": [
    "# Queue using Python deque funtion\n",
    "\n",
    "from collections import deque\n",
    "queue=deque()\n",
    "queue.append(3)\n",
    "queue.append(12)\n",
    "print(queue)\n",
    "print(queue.popleft())\n",
    "print(queue)"
   ]
  },
  {
   "cell_type": "code",
   "execution_count": 30,
   "id": "c1385139",
   "metadata": {},
   "outputs": [],
   "source": [
    "# Wrapper class for queue using python function deque\n",
    "\n",
    "from collections import deque\n",
    "class Queue():\n",
    "    def __init__(self):\n",
    "        self.queue = deque()\n",
    "        self.size = 0\n",
    "    def enqueue(self,item):\n",
    "        self.queue.append(item)\n",
    "        self.size+=1\n",
    "    def dequeue(self):\n",
    "        if self.size>0:\n",
    "            self.size-=1\n",
    "            return self.queue.popleft()\n",
    "        else:\n",
    "            return None\n",
    "    def peek(self):\n",
    "        if self.size>0:\n",
    "            value = self.queue.popleft()\n",
    "            self.queue.appendleft(value)\n",
    "            return value\n",
    "        else:\n",
    "            return None\n",
    "    def get_size(self):\n",
    "        return self.size\n",
    "    def __str__(self):\n",
    "        return str(self.queue)\n",
    "        "
   ]
  },
  {
   "cell_type": "code",
   "execution_count": 32,
   "id": "0c940866",
   "metadata": {},
   "outputs": [
    {
     "name": "stdout",
     "output_type": "stream",
     "text": [
      "deque([2, 23, 25, 12])\n",
      "2\n",
      "23\n",
      "3\n"
     ]
    }
   ],
   "source": [
    "#Testing with data\n",
    "\n",
    "queue= Queue()\n",
    "queue.enqueue(2)\n",
    "queue.enqueue(23)\n",
    "queue.enqueue(25)\n",
    "queue.enqueue(12)\n",
    "print(queue)\n",
    "print(queue.dequeue())\n",
    "print(queue.peek())\n",
    "print(queue.get_size())"
   ]
  },
  {
   "cell_type": "code",
   "execution_count": 37,
   "id": "fecf207d",
   "metadata": {},
   "outputs": [],
   "source": [
    "# Python MaxHeap using Wrapper Class\n",
    "\n",
    "class MaxHeap:\n",
    "    def __init__(self,items=[]):\n",
    "        super().__init__()\n",
    "        self.heap = [0]\n",
    "        for item in items:\n",
    "            self.heap.append(item)\n",
    "            self.__floatUp(len(self.heap)-1)\n",
    "    def push(self,data):\n",
    "        self.heap.append(data)\n",
    "        self.__floatUp(len(self.heap)-1)\n",
    "    def peek(self):\n",
    "        if self.heap[1]:\n",
    "            return self.heap[1]\n",
    "        else:\n",
    "            return False\n",
    "    def pop(self):\n",
    "        if len(self.heap) > 2:\n",
    "            self.__swap(1,len(self.heap)-1)\n",
    "            max = self.heap.pop()\n",
    "            self.__bubbleDown(1)\n",
    "        elif len(self.heap)==2:\n",
    "            max = self.heap.pop()\n",
    "        else:\n",
    "            max=False\n",
    "        return max\n",
    "    def __swap(self,i,j):\n",
    "        self.heap[i], self.heap[j]=self.heap[j],self.heap[i]\n",
    "    def __floatUp(self, index):\n",
    "        parent = index//2\n",
    "        if index <= 1:\n",
    "            return False\n",
    "        elif self.heap[index] > self.heap[parent]:\n",
    "            self.__swap(index,parent)\n",
    "            self.__floatUp(parent)\n",
    "    def __bubbleDown(self,index):\n",
    "        left = index* 2\n",
    "        right = index * 2+1\n",
    "        largest = index\n",
    "        if len(self.heap) > left and self.heap[largest] < self.heap[left]:\n",
    "            largest = left\n",
    "        if len(self.heap) > right and self.heap[largest] < self.heap[right]:\n",
    "            largest = right\n",
    "        if largest != index:\n",
    "            self.__swap(index,largest)\n",
    "            self.__bubbleDown(largest)\n",
    "    def __str__(self):\n",
    "        return str(self.heap)\n",
    "            \n",
    "    "
   ]
  },
  {
   "cell_type": "code",
   "execution_count": 41,
   "id": "65a870e4",
   "metadata": {},
   "outputs": [
    {
     "name": "stdout",
     "output_type": "stream",
     "text": [
      "[0, 23, 10, 12, 2]\n",
      "23\n",
      "[0, 12, 10, 2]\n",
      "12\n"
     ]
    }
   ],
   "source": [
    "m = MaxHeap([23,2,12])\n",
    "m.push(10)\n",
    "print(m)\n",
    "print(m.pop())\n",
    "print(m)\n",
    "print(m.peek())"
   ]
  },
  {
   "cell_type": "code",
   "execution_count": null,
   "id": "1e70b809",
   "metadata": {},
   "outputs": [],
   "source": []
  }
 ],
 "metadata": {
  "kernelspec": {
   "display_name": "Python 3 (ipykernel)",
   "language": "python",
   "name": "python3"
  },
  "language_info": {
   "codemirror_mode": {
    "name": "ipython",
    "version": 3
   },
   "file_extension": ".py",
   "mimetype": "text/x-python",
   "name": "python",
   "nbconvert_exporter": "python",
   "pygments_lexer": "ipython3",
   "version": "3.10.9"
  }
 },
 "nbformat": 4,
 "nbformat_minor": 5
}
